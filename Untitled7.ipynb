{
  "nbformat": 4,
  "nbformat_minor": 0,
  "metadata": {
    "colab": {
      "provenance": [],
      "authorship_tag": "ABX9TyMVTiLz0AVLZHHWl+JN3gWY"
    },
    "kernelspec": {
      "name": "python3",
      "display_name": "Python 3"
    },
    "language_info": {
      "name": "python"
    }
  },
  "cells": [
    {
      "cell_type": "code",
      "execution_count": 2,
      "metadata": {
        "id": "4xv_WhOZ3oYH"
      },
      "outputs": [],
      "source": [
        "import os"
      ]
    },
    {
      "cell_type": "code",
      "source": [
        "os.environ[\"KAGGLE CONFIG_DIR\"]='/content'"
      ],
      "metadata": {
        "id": "60sFjY_p3tzh"
      },
      "execution_count": 3,
      "outputs": []
    },
    {
      "cell_type": "code",
      "source": [
        "!kaggle datasets download -d mustfkeskin/turkish-movie-sentiment-analysis-dataset"
      ],
      "metadata": {
        "colab": {
          "base_uri": "https://localhost:8080/"
        },
        "id": "ZkPQoMBn35n7",
        "outputId": "bb6d70a8-b9f2-42c4-cbe0-c18cce3d6a4a"
      },
      "execution_count": 5,
      "outputs": [
        {
          "output_type": "stream",
          "name": "stdout",
          "text": [
            "Dataset URL: https://www.kaggle.com/datasets/mustfkeskin/turkish-movie-sentiment-analysis-dataset\n",
            "License(s): CC0-1.0\n",
            "turkish-movie-sentiment-analysis-dataset.zip: Skipping, found more recently modified local copy (use --force to force download)\n"
          ]
        }
      ]
    },
    {
      "cell_type": "code",
      "source": [
        "!unzip /content/turkish-movie-sentiment-analysis-dataset.zip"
      ],
      "metadata": {
        "colab": {
          "base_uri": "https://localhost:8080/"
        },
        "id": "2lFYzdHb3-R0",
        "outputId": "ba003f10-4d7d-453a-8d6a-c1045cb3e4b0"
      },
      "execution_count": 6,
      "outputs": [
        {
          "output_type": "stream",
          "name": "stdout",
          "text": [
            "Archive:  /content/turkish-movie-sentiment-analysis-dataset.zip\n",
            "replace turkish_movie_sentiment_dataset.csv? [y]es, [n]o, [A]ll, [N]one, [r]ename: n\n"
          ]
        }
      ]
    },
    {
      "cell_type": "code",
      "source": [
        "import pandas as pd\n",
        "import numpy as np\n",
        "from sklearn.model_selection import train_test_split\n",
        "from sklearn.feature_extraction.text import TfidfVectorizer\n",
        "from sklearn.naive_bayes import MultinomialNB\n",
        "from sklearn.pipeline import Pipeline\n",
        "from sklearn.metrics import classification_report, accuracy_score\n",
        "import nltk\n",
        "nltk.download('stopwords')\n",
        "from nltk.corpus import stopwords"
      ],
      "metadata": {
        "colab": {
          "base_uri": "https://localhost:8080/"
        },
        "id": "vzx5KeML4Con",
        "outputId": "965ba4a0-7999-45fd-c2bf-ed9e26141e25"
      },
      "execution_count": 4,
      "outputs": [
        {
          "output_type": "stream",
          "name": "stderr",
          "text": [
            "[nltk_data] Downloading package stopwords to /root/nltk_data...\n",
            "[nltk_data]   Package stopwords is already up-to-date!\n"
          ]
        }
      ]
    },
    {
      "cell_type": "code",
      "source": [
        "\n",
        "df = pd.read_csv('/content/turkish_movie_sentiment_dataset.csv')  # Adjust path as needed\n"
      ],
      "metadata": {
        "id": "2PUoH-Wz4JCz"
      },
      "execution_count": 7,
      "outputs": []
    },
    {
      "cell_type": "code",
      "source": [
        "# Explore the dataset\n",
        "print(df.head())\n"
      ],
      "metadata": {
        "colab": {
          "base_uri": "https://localhost:8080/"
        },
        "id": "_YO0o_Kn4JGL",
        "outputId": "d67286b1-bca6-41f5-aaa8-10a2f7bc34c7"
      },
      "execution_count": 8,
      "outputs": [
        {
          "output_type": "stream",
          "name": "stdout",
          "text": [
            "                                             comment      film_name point\n",
            "0  \\n                      Jean Reno denince zate...  Sevginin Gücü   5,0\n",
            "1  \\n                      Ekşın falan izlemek is...  Sevginin Gücü   5,0\n",
            "2  \\n                      Bu yapım hakkında öyle...  Sevginin Gücü   5,0\n",
            "3  \\n                      finali yeter... (sting...  Sevginin Gücü   5,0\n",
            "4  \\n                      Jean Reno..\\r\\nbu adam...  Sevginin Gücü   5,0\n"
          ]
        }
      ]
    },
    {
      "cell_type": "code",
      "source": [
        "print(df.tail())"
      ],
      "metadata": {
        "colab": {
          "base_uri": "https://localhost:8080/"
        },
        "id": "3qbfFWjX4JJv",
        "outputId": "493e24f1-c927-4422-92a6-0f245732ed78"
      },
      "execution_count": 9,
      "outputs": [
        {
          "output_type": "stream",
          "name": "stdout",
          "text": [
            "                                                 comment  \\\n",
            "83222  \\n                      Böyle bi kadrodan, bçy...   \n",
            "83223  \\n                      yani bu kaar ii oyunca...   \n",
            "83224  \\n                      bugün dvd'sini alıp iz...   \n",
            "83225  \\n                      Klasik korku ve gerili...   \n",
            "83226  \\n                      Bence gereğinden fazla...   \n",
            "\n",
            "                          film_name point  \n",
            "83222                         Kabus   2,5  \n",
            "83223                         Kabus   2,5  \n",
            "83224                         Kabus   1,0  \n",
            "83225                         Kabus   4,0  \n",
            "83226  Bir Zamanlar... Hollywood'da   4,6  \n"
          ]
        }
      ]
    },
    {
      "cell_type": "code",
      "source": [
        "print(df.columns)"
      ],
      "metadata": {
        "colab": {
          "base_uri": "https://localhost:8080/"
        },
        "id": "iOvj_5pz4Ys4",
        "outputId": "8f07f7ad-3587-4b27-bb51-71a246d5aa5a"
      },
      "execution_count": 10,
      "outputs": [
        {
          "output_type": "stream",
          "name": "stdout",
          "text": [
            "Index(['comment', 'film_name', 'point'], dtype='object')\n"
          ]
        }
      ]
    },
    {
      "cell_type": "code",
      "source": [
        "print(df['comment'].value_counts())"
      ],
      "metadata": {
        "colab": {
          "base_uri": "https://localhost:8080/"
        },
        "id": "hpMq-Y1Q4Y0f",
        "outputId": "2a4ce123-34f4-4f2f-94b5-5c3b5451067f"
      },
      "execution_count": 11,
      "outputs": [
        {
          "output_type": "stream",
          "name": "stdout",
          "text": [
            "comment\n",
            "\\n        \\n                                                                                                                                                                                                                                                                                                                                                                                                                           300\n",
            "\\n                                                                                                                                                                                                                                                                                                                                                                                                                                     163\n",
            "\\n                                                                                                                                                                                                                                                                                                                                                                                                                                     110\n",
            "\\n                      SADECE SİNEMA KONUŞULAN, YORUMLAR YAPILAN, TAVSİYELER ALINIP VERİLEN BİR SİNEMA WHATSAPP GURUBU DÜŞÜNÜN. 2. YILIMIZI KUTLUYORUZ. 05522477170\\n        \\n                                                                                                                                                                                                                                                        32\n",
            "\\n                      Merhaba,\\nsinema ve dizilere dair eleştri,haber ve yorumların yapılacagı kaliteli ve seviyeli bir whatsapp grubumuz vardır.\\nkatılmak isteyenler 0545 935 43 44 nolu numaradan bana ulaşabilirler.\\nKurallar: kufur , cinsel içerikli paylaşım, saygısızlık yasak.\\n20 yaşından büyük kişiler kabul edilmektedir.\\ndin siyaset ve futbol konularında konuşmak ve paylaşım yasaktır.\\n        \\n                 17\n",
            "                                                                                                                                                                                                                                                                                                                                                                                                                                      ... \n",
            "\\n                      charlize  theronun bu filmle oscara ada gösterilmesi üzerine filme olan merakım artmıştı.geçenlerde filmi izleme imkanı buldum,sıkılacağımı sanıyordum halbuki film  çok akıcıydı ancak theronu the monster filmindeki kadar başarılı bulduğumu da söyleyemem..belki klişe bulabilirsiniz ama benim hoşuma gitti.8/10\\n        \\n                                                                                1\n",
            "\\n                      ölümsüz bir western en iyilerden mizhahi yönüde olduça güzeldi özellikle bisiklet sahnesi\\n        \\n                                                                                                                                                                                                                                                                                                            1\n",
            "\\n                      Daha önce izleyici yorumları böylesine abartılmış bir filme gitmemiştim. Genel olarak vasat kurgu üzerine  birkaç sahne harici uyku getiren bir filmcik...\\n        \\n                                                                                                                                                                                                                                           1\n",
            "\\n                      Son yıllarda vizyona giren vıcık vıcık aşk ve dram içeren kalitesi düşük türk filmlerden dolayı tövbeliydim türk sinemasına tabiki bu konuları içerenlere. Dün ısrara dayanamayıp bu filme gittim ve çok beğendim. sade güzel anlatılmış bir film. Zaten mükemmel bir oyuncu kadrosu da eşlik etmiş. Tavsiye olunur.\\n        \\n                                                                                 1\n",
            "\\n                      Bence gereğinden fazla bir eleştiri aldığını düşünüyorum (kötü anlamda) Film de bazi yerlerde kopukluk hissediliyor ama ben kendi adıma 2 s 45 dk lık bir film bu kadar akıcı gitmemişti. Tarantino'nun en kötü filmiymiş yok artık pes! Daha iyi filmleri var tabii ki ama çok kötü bir film değil. (Sanat yönetmenini ayrı bir tebrik ediyorum)\\n        \\n                                                    1\n",
            "Name: count, Length: 82456, dtype: int64\n"
          ]
        }
      ]
    },
    {
      "cell_type": "code",
      "source": [
        "print(df['film_name'].value_counts())"
      ],
      "metadata": {
        "colab": {
          "base_uri": "https://localhost:8080/"
        },
        "id": "JFgpIRnb4ePA",
        "outputId": "ad0929a9-9760-4b45-a59d-2f74eb1fcf02"
      },
      "execution_count": 16,
      "outputs": [
        {
          "output_type": "stream",
          "name": "stdout",
          "text": [
            "film_name\n",
            "Kapan                            92\n",
            "Köstebek                         76\n",
            "Cinnet                           64\n",
            "Deney                            61\n",
            "Şüphe                            54\n",
            "                                 ..\n",
            "Drakula: Ölü ve Mutlu             1\n",
            "Karlar Kraliçesi 2                1\n",
            "Kursk                             1\n",
            "Gassal                            1\n",
            "Max Maceraları: Kralın Doğuşu     1\n",
            "Name: count, Length: 7722, dtype: int64\n"
          ]
        }
      ]
    },
    {
      "cell_type": "code",
      "source": [
        "# Preprocessing\n",
        "stop_words = set(stopwords.words('turkish'))\n",
        "def preprocess_text(text):\n",
        "    # Basic text preprocessing\n",
        "    text = text.lower()\n",
        "    text = ' '.join(word for word in text.split() if word not in stop_words)\n",
        "    return text\n",
        "\n",
        "df['processed_text'] = df['comment'].apply(preprocess_text)"
      ],
      "metadata": {
        "id": "976PAnum4eRc"
      },
      "execution_count": 12,
      "outputs": []
    },
    {
      "cell_type": "code",
      "source": [
        "# Split the dataset\n",
        "X = df['processed_text']\n",
        "y = df['film_name']\n",
        "X_train, X_test, y_train, y_test = train_test_split(X, y, test_size=0.2, random_state=42)"
      ],
      "metadata": {
        "id": "UTu82rRU4eTm"
      },
      "execution_count": 13,
      "outputs": []
    },
    {
      "cell_type": "code",
      "source": [
        "print(type(X_train))\n",
        "print(type(y_train))\n",
        "print(X_train.head())\n",
        "print(y_train.head())\n"
      ],
      "metadata": {
        "colab": {
          "base_uri": "https://localhost:8080/"
        },
        "id": "QNPsCtkj5PZu",
        "outputId": "aa9f4441-6d98-4c8c-d8b6-49c953574103"
      },
      "execution_count": 14,
      "outputs": [
        {
          "output_type": "stream",
          "name": "stdout",
          "text": [
            "<class 'pandas.core.series.Series'>\n",
            "<class 'pandas.core.series.Series'>\n",
            "13037    kankamın tavsiyesi üzerine izledim biraz önyar...\n",
            "81128    arkdaşım dikkat edersen yukarıda gösterim tari...\n",
            "61294              steve buscemi adamım harikasın yine....\n",
            "51619    bence etkıleyıcı cok fazla beklentıyle ızlemye...\n",
            "37732    filme yorum yazmayı unutmuşum oysaki yorum yaz...\n",
            "Name: processed_text, dtype: object\n",
            "13037                              Ruhlar Bölgesi\n",
            "81128    Jonas Brothers: Üç Boyutlu Konser Deneyi\n",
            "61294                                     Görüşme\n",
            "51619                                  Fred Claus\n",
            "37732                                  Babam İçin\n",
            "Name: film_name, dtype: object\n"
          ]
        }
      ]
    },
    {
      "cell_type": "code",
      "source": [
        "print(X_train.isnull().sum())\n",
        "print(y_train.isnull().sum())\n"
      ],
      "metadata": {
        "colab": {
          "base_uri": "https://localhost:8080/"
        },
        "id": "8ObPzS666N0n",
        "outputId": "30f85f1b-0a2b-481f-ca92-19a1447783b3"
      },
      "execution_count": 15,
      "outputs": [
        {
          "output_type": "stream",
          "name": "stdout",
          "text": [
            "0\n",
            "0\n"
          ]
        }
      ]
    },
    {
      "cell_type": "code",
      "source": [
        "# Build and train the pipeline\n",
        "pipeline = Pipeline([\n",
        "    ('tfidf', TfidfVectorizer()),\n",
        "    ('classifier', MultinomialNB())\n",
        "])\n",
        "\n",
        "try:\n",
        "    pipeline.fit(X_train, y_train)\n",
        "    y_pred = pipeline.predict(X_test)\n",
        "    print(f\"Accuracy: {accuracy_score(y_test, y_pred)}\")\n",
        "    print(classification_report(y_test, y_pred))\n",
        "except Exception as e:\n",
        "    print(f\"An error occurred: {e}\")"
      ],
      "metadata": {
        "id": "kdfjxlO86aeO"
      },
      "execution_count": null,
      "outputs": []
    },
    {
      "cell_type": "code",
      "source": [],
      "metadata": {
        "id": "iQ3GEIcE6alR"
      },
      "execution_count": null,
      "outputs": []
    }
  ]
}